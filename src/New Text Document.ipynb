{
 "cells": [
  {
   "cell_type": "code",
   "execution_count": 1,
   "id": "ec7581d3",
   "metadata": {},
   "outputs": [
    {
     "name": "stdout",
     "output_type": "stream",
     "text": [
      "Collecting dataloader\n",
      "  Downloading dataloader-2.0.tar.gz (9.1 kB)\n",
      "  Preparing metadata (setup.py): started\n",
      "  Preparing metadata (setup.py): finished with status 'done'\n",
      "Building wheels for collected packages: dataloader\n",
      "  Building wheel for dataloader (setup.py): started\n",
      "  Building wheel for dataloader (setup.py): finished with status 'done'\n",
      "  Created wheel for dataloader: filename=dataloader-2.0-py3-none-any.whl size=10122 sha256=8186fbaf413200c4af52ccfd0e669fa7d2598b32f81e1369e58923abf36f3dec\n",
      "  Stored in directory: c:\\users\\donyaye digital\\appdata\\local\\pip\\cache\\wheels\\fa\\17\\c3\\e258aa863dd515a9b5759c01f4af55b2a2ea0881b2778fc749\n",
      "Successfully built dataloader\n",
      "Installing collected packages: dataloader\n",
      "Successfully installed dataloader-2.0\n",
      "Note: you may need to restart the kernel to use updated packages.\n"
     ]
    }
   ],
   "source": [
    "pip install dataloader"
   ]
  }
 ],
 "metadata": {
  "kernelspec": {
   "display_name": "ai12 - Copy",
   "language": "python",
   "name": "python3"
  },
  "language_info": {
   "codemirror_mode": {
    "name": "ipython",
    "version": 3
   },
   "file_extension": ".py",
   "mimetype": "text/x-python",
   "name": "python",
   "nbconvert_exporter": "python",
   "pygments_lexer": "ipython3",
   "version": "3.12.8"
  }
 },
 "nbformat": 4,
 "nbformat_minor": 5
}
